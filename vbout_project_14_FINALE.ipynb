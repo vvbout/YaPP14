{
 "cells": [
  {
   "cell_type": "markdown",
   "metadata": {},
   "source": [
    "# ФОРМИРОВАНИЕ ЦЕННОСТНОГО ПРЕДЛОЖЕНИЯ ДЛЯ КРУПНОГО СЕРВИСА ЧТЕНИЯ КНИГ ПО ПОДПИСКЕ\n",
    "\n",
    "**Задача проекта:**\n",
    "\n",
    "на основе данных, представленных в:\n",
    "* **Таблица books**\n",
    "\n",
    "Содержит данные о книгах:\n",
    "* book_id — идентификатор книги\n",
    "* author_id — идентификатор автора\n",
    "* title — название книги\n",
    "* num_pages — количество страниц\n",
    "* publication_date — дата публикации книги\n",
    "* publisher_id — идентификатор издателя\n",
    "\n",
    "\n",
    "* **Таблица authors**\n",
    "\n",
    "Содержит данные об авторах:\n",
    "* author_id — идентификатор автора\n",
    "* author — имя автора\n",
    "\n",
    "\n",
    "* **Таблица publishers**\n",
    "\n",
    "Содержит данные об издательствах:\n",
    "\n",
    "* publisher_id — идентификатор издательства\n",
    "* publisher — название издательства\n",
    "\n",
    "\n",
    "* **Таблица ratings**\n",
    "\n",
    "Содержит данные о пользовательских оценках книг:\n",
    "\n",
    "* rating_id — идентификатор оценки\n",
    "* book_id — идентификатор книги\n",
    "* username — имя пользователя, оставившего оценку\n",
    "* rating — оценка книги\n",
    "\n",
    "\n",
    "* **Таблица reviews**\n",
    "\n",
    "Содержит данные о пользовательских обзорах:\n",
    "\n",
    "* review_id — идентификатор обзора\n",
    "* book_id — идентификатор книги\n",
    "* username — имя автора обзора\n",
    "* text — текст обзора\n",
    "\n",
    "**Проанализировать** базу данных,\n",
    "\n",
    "**Сформулировать** выводы для формирования ценностного предложения.\n"
   ]
  },
  {
   "cell_type": "markdown",
   "metadata": {},
   "source": [
    "## предобработка данных"
   ]
  },
  {
   "cell_type": "code",
   "execution_count": 1,
   "metadata": {},
   "outputs": [],
   "source": [
    "# импортируем библиотеки\n",
    "import pandas as pd\n",
    "from sqlalchemy import create_engine\n",
    "\n",
    "# устанавливаем параметры\n",
    "db_config = {'user': 'praktikum_student', # имя пользователя\n",
    "             'pwd': 'Sdf4$2;d-d30pp', # пароль\n",
    "             'host': 'rc1b-wcoijxj3yxfsf3fs.mdb.yandexcloud.net',\n",
    "             'port': 6432, # порт подключения\n",
    "             'db': 'data-analyst-final-project-db'} # название базы данных\n",
    "connection_string = 'postgresql://{}:{}@{}:{}/{}'.format(db_config['user'],\n",
    "                                                 db_config['pwd'],\n",
    "                                                 db_config['host'],\n",
    "                                                 db_config['port'],\n",
    "                                                 db_config['db'])\n",
    "# сохраняем коннектор\n",
    "engine = create_engine(connection_string, connect_args={'sslmode':'require'})"
   ]
  },
  {
   "cell_type": "code",
   "execution_count": 2,
   "metadata": {},
   "outputs": [
    {
     "data": {
      "text/html": [
       "<div>\n",
       "<style scoped>\n",
       "    .dataframe tbody tr th:only-of-type {\n",
       "        vertical-align: middle;\n",
       "    }\n",
       "\n",
       "    .dataframe tbody tr th {\n",
       "        vertical-align: top;\n",
       "    }\n",
       "\n",
       "    .dataframe thead th {\n",
       "        text-align: right;\n",
       "    }\n",
       "</style>\n",
       "<table border=\"1\" class=\"dataframe\">\n",
       "  <thead>\n",
       "    <tr style=\"text-align: right;\">\n",
       "      <th></th>\n",
       "      <th>book_id</th>\n",
       "      <th>author_id</th>\n",
       "      <th>title</th>\n",
       "      <th>num_pages</th>\n",
       "      <th>publication_date</th>\n",
       "      <th>publisher_id</th>\n",
       "    </tr>\n",
       "  </thead>\n",
       "  <tbody>\n",
       "    <tr>\n",
       "      <th>0</th>\n",
       "      <td>1</td>\n",
       "      <td>546</td>\n",
       "      <td>'Salem's Lot</td>\n",
       "      <td>594</td>\n",
       "      <td>2005-11-01</td>\n",
       "      <td>93</td>\n",
       "    </tr>\n",
       "    <tr>\n",
       "      <th>1</th>\n",
       "      <td>2</td>\n",
       "      <td>465</td>\n",
       "      <td>1 000 Places to See Before You Die</td>\n",
       "      <td>992</td>\n",
       "      <td>2003-05-22</td>\n",
       "      <td>336</td>\n",
       "    </tr>\n",
       "    <tr>\n",
       "      <th>2</th>\n",
       "      <td>3</td>\n",
       "      <td>407</td>\n",
       "      <td>13 Little Blue Envelopes (Little Blue Envelope...</td>\n",
       "      <td>322</td>\n",
       "      <td>2010-12-21</td>\n",
       "      <td>135</td>\n",
       "    </tr>\n",
       "  </tbody>\n",
       "</table>\n",
       "</div>"
      ],
      "text/plain": [
       "   book_id  author_id                                              title  \\\n",
       "0        1        546                                       'Salem's Lot   \n",
       "1        2        465                 1 000 Places to See Before You Die   \n",
       "2        3        407  13 Little Blue Envelopes (Little Blue Envelope...   \n",
       "\n",
       "   num_pages publication_date  publisher_id  \n",
       "0        594       2005-11-01            93  \n",
       "1        992       2003-05-22           336  \n",
       "2        322       2010-12-21           135  "
      ]
     },
     "metadata": {},
     "output_type": "display_data"
    },
    {
     "name": "stdout",
     "output_type": "stream",
     "text": [
      "<class 'pandas.core.frame.DataFrame'>\n",
      "RangeIndex: 1000 entries, 0 to 999\n",
      "Data columns (total 6 columns):\n",
      " #   Column            Non-Null Count  Dtype \n",
      "---  ------            --------------  ----- \n",
      " 0   book_id           1000 non-null   int64 \n",
      " 1   author_id         1000 non-null   int64 \n",
      " 2   title             1000 non-null   object\n",
      " 3   num_pages         1000 non-null   int64 \n",
      " 4   publication_date  1000 non-null   object\n",
      " 5   publisher_id      1000 non-null   int64 \n",
      "dtypes: int64(4), object(2)\n",
      "memory usage: 47.0+ KB\n"
     ]
    },
    {
     "data": {
      "text/plain": [
       "None"
      ]
     },
     "metadata": {},
     "output_type": "display_data"
    }
   ],
   "source": [
    "# загружаем файл books\n",
    "\n",
    "query_books = '''\n",
    "            SELECT *\n",
    "            FROM books\n",
    "         '''\n",
    " \n",
    "books = pd.io.sql.read_sql(query_books, con = engine)\n",
    "display(books.head(3))\n",
    "display(books.info())"
   ]
  },
  {
   "cell_type": "code",
   "execution_count": 3,
   "metadata": {},
   "outputs": [
    {
     "data": {
      "text/html": [
       "<div>\n",
       "<style scoped>\n",
       "    .dataframe tbody tr th:only-of-type {\n",
       "        vertical-align: middle;\n",
       "    }\n",
       "\n",
       "    .dataframe tbody tr th {\n",
       "        vertical-align: top;\n",
       "    }\n",
       "\n",
       "    .dataframe thead th {\n",
       "        text-align: right;\n",
       "    }\n",
       "</style>\n",
       "<table border=\"1\" class=\"dataframe\">\n",
       "  <thead>\n",
       "    <tr style=\"text-align: right;\">\n",
       "      <th></th>\n",
       "      <th>author_id</th>\n",
       "      <th>author</th>\n",
       "    </tr>\n",
       "  </thead>\n",
       "  <tbody>\n",
       "    <tr>\n",
       "      <th>0</th>\n",
       "      <td>1</td>\n",
       "      <td>A.S. Byatt</td>\n",
       "    </tr>\n",
       "    <tr>\n",
       "      <th>1</th>\n",
       "      <td>2</td>\n",
       "      <td>Aesop/Laura Harris/Laura Gibbs</td>\n",
       "    </tr>\n",
       "    <tr>\n",
       "      <th>2</th>\n",
       "      <td>3</td>\n",
       "      <td>Agatha Christie</td>\n",
       "    </tr>\n",
       "  </tbody>\n",
       "</table>\n",
       "</div>"
      ],
      "text/plain": [
       "   author_id                          author\n",
       "0          1                      A.S. Byatt\n",
       "1          2  Aesop/Laura Harris/Laura Gibbs\n",
       "2          3                 Agatha Christie"
      ]
     },
     "metadata": {},
     "output_type": "display_data"
    },
    {
     "name": "stdout",
     "output_type": "stream",
     "text": [
      "<class 'pandas.core.frame.DataFrame'>\n",
      "RangeIndex: 636 entries, 0 to 635\n",
      "Data columns (total 2 columns):\n",
      " #   Column     Non-Null Count  Dtype \n",
      "---  ------     --------------  ----- \n",
      " 0   author_id  636 non-null    int64 \n",
      " 1   author     636 non-null    object\n",
      "dtypes: int64(1), object(1)\n",
      "memory usage: 10.1+ KB\n"
     ]
    },
    {
     "data": {
      "text/plain": [
       "None"
      ]
     },
     "metadata": {},
     "output_type": "display_data"
    }
   ],
   "source": [
    "# загружаем файл authors\n",
    "\n",
    "query_authors = '''\n",
    "            SELECT *\n",
    "            FROM authors\n",
    "         '''\n",
    " \n",
    "authors = pd.io.sql.read_sql(query_authors, con = engine)\n",
    "display(authors.head(3))\n",
    "display(authors.info())"
   ]
  },
  {
   "cell_type": "code",
   "execution_count": 4,
   "metadata": {},
   "outputs": [
    {
     "data": {
      "text/html": [
       "<div>\n",
       "<style scoped>\n",
       "    .dataframe tbody tr th:only-of-type {\n",
       "        vertical-align: middle;\n",
       "    }\n",
       "\n",
       "    .dataframe tbody tr th {\n",
       "        vertical-align: top;\n",
       "    }\n",
       "\n",
       "    .dataframe thead th {\n",
       "        text-align: right;\n",
       "    }\n",
       "</style>\n",
       "<table border=\"1\" class=\"dataframe\">\n",
       "  <thead>\n",
       "    <tr style=\"text-align: right;\">\n",
       "      <th></th>\n",
       "      <th>publisher_id</th>\n",
       "      <th>publisher</th>\n",
       "    </tr>\n",
       "  </thead>\n",
       "  <tbody>\n",
       "    <tr>\n",
       "      <th>0</th>\n",
       "      <td>1</td>\n",
       "      <td>Ace</td>\n",
       "    </tr>\n",
       "    <tr>\n",
       "      <th>1</th>\n",
       "      <td>2</td>\n",
       "      <td>Ace Book</td>\n",
       "    </tr>\n",
       "    <tr>\n",
       "      <th>2</th>\n",
       "      <td>3</td>\n",
       "      <td>Ace Books</td>\n",
       "    </tr>\n",
       "  </tbody>\n",
       "</table>\n",
       "</div>"
      ],
      "text/plain": [
       "   publisher_id  publisher\n",
       "0             1        Ace\n",
       "1             2   Ace Book\n",
       "2             3  Ace Books"
      ]
     },
     "metadata": {},
     "output_type": "display_data"
    },
    {
     "name": "stdout",
     "output_type": "stream",
     "text": [
      "<class 'pandas.core.frame.DataFrame'>\n",
      "RangeIndex: 340 entries, 0 to 339\n",
      "Data columns (total 2 columns):\n",
      " #   Column        Non-Null Count  Dtype \n",
      "---  ------        --------------  ----- \n",
      " 0   publisher_id  340 non-null    int64 \n",
      " 1   publisher     340 non-null    object\n",
      "dtypes: int64(1), object(1)\n",
      "memory usage: 5.4+ KB\n"
     ]
    },
    {
     "data": {
      "text/plain": [
       "None"
      ]
     },
     "metadata": {},
     "output_type": "display_data"
    }
   ],
   "source": [
    "# загружаем файл publishers\n",
    "\n",
    "query_publishers = '''\n",
    "            SELECT *\n",
    "            FROM publishers\n",
    "         '''\n",
    " \n",
    "publishers = pd.io.sql.read_sql(query_publishers, con = engine)\n",
    "display(publishers.head(3))\n",
    "display(publishers.info())"
   ]
  },
  {
   "cell_type": "code",
   "execution_count": 5,
   "metadata": {},
   "outputs": [
    {
     "data": {
      "text/html": [
       "<div>\n",
       "<style scoped>\n",
       "    .dataframe tbody tr th:only-of-type {\n",
       "        vertical-align: middle;\n",
       "    }\n",
       "\n",
       "    .dataframe tbody tr th {\n",
       "        vertical-align: top;\n",
       "    }\n",
       "\n",
       "    .dataframe thead th {\n",
       "        text-align: right;\n",
       "    }\n",
       "</style>\n",
       "<table border=\"1\" class=\"dataframe\">\n",
       "  <thead>\n",
       "    <tr style=\"text-align: right;\">\n",
       "      <th></th>\n",
       "      <th>rating_id</th>\n",
       "      <th>book_id</th>\n",
       "      <th>username</th>\n",
       "      <th>rating</th>\n",
       "    </tr>\n",
       "  </thead>\n",
       "  <tbody>\n",
       "    <tr>\n",
       "      <th>0</th>\n",
       "      <td>1</td>\n",
       "      <td>1</td>\n",
       "      <td>ryanfranco</td>\n",
       "      <td>4</td>\n",
       "    </tr>\n",
       "    <tr>\n",
       "      <th>1</th>\n",
       "      <td>2</td>\n",
       "      <td>1</td>\n",
       "      <td>grantpatricia</td>\n",
       "      <td>2</td>\n",
       "    </tr>\n",
       "    <tr>\n",
       "      <th>2</th>\n",
       "      <td>3</td>\n",
       "      <td>1</td>\n",
       "      <td>brandtandrea</td>\n",
       "      <td>5</td>\n",
       "    </tr>\n",
       "  </tbody>\n",
       "</table>\n",
       "</div>"
      ],
      "text/plain": [
       "   rating_id  book_id       username  rating\n",
       "0          1        1     ryanfranco       4\n",
       "1          2        1  grantpatricia       2\n",
       "2          3        1   brandtandrea       5"
      ]
     },
     "metadata": {},
     "output_type": "display_data"
    },
    {
     "name": "stdout",
     "output_type": "stream",
     "text": [
      "<class 'pandas.core.frame.DataFrame'>\n",
      "RangeIndex: 6456 entries, 0 to 6455\n",
      "Data columns (total 4 columns):\n",
      " #   Column     Non-Null Count  Dtype \n",
      "---  ------     --------------  ----- \n",
      " 0   rating_id  6456 non-null   int64 \n",
      " 1   book_id    6456 non-null   int64 \n",
      " 2   username   6456 non-null   object\n",
      " 3   rating     6456 non-null   int64 \n",
      "dtypes: int64(3), object(1)\n",
      "memory usage: 201.9+ KB\n"
     ]
    },
    {
     "data": {
      "text/plain": [
       "None"
      ]
     },
     "metadata": {},
     "output_type": "display_data"
    }
   ],
   "source": [
    "# загружаем файл ratings\n",
    "\n",
    "query_ratings = '''\n",
    "            SELECT *\n",
    "            FROM ratings\n",
    "         '''\n",
    " \n",
    "ratings = pd.io.sql.read_sql(query_ratings, con = engine)\n",
    "display(ratings.head(3))\n",
    "display(ratings.info())"
   ]
  },
  {
   "cell_type": "code",
   "execution_count": 6,
   "metadata": {},
   "outputs": [
    {
     "data": {
      "text/html": [
       "<div>\n",
       "<style scoped>\n",
       "    .dataframe tbody tr th:only-of-type {\n",
       "        vertical-align: middle;\n",
       "    }\n",
       "\n",
       "    .dataframe tbody tr th {\n",
       "        vertical-align: top;\n",
       "    }\n",
       "\n",
       "    .dataframe thead th {\n",
       "        text-align: right;\n",
       "    }\n",
       "</style>\n",
       "<table border=\"1\" class=\"dataframe\">\n",
       "  <thead>\n",
       "    <tr style=\"text-align: right;\">\n",
       "      <th></th>\n",
       "      <th>review_id</th>\n",
       "      <th>book_id</th>\n",
       "      <th>username</th>\n",
       "      <th>text</th>\n",
       "    </tr>\n",
       "  </thead>\n",
       "  <tbody>\n",
       "    <tr>\n",
       "      <th>0</th>\n",
       "      <td>1</td>\n",
       "      <td>1</td>\n",
       "      <td>brandtandrea</td>\n",
       "      <td>Mention society tell send professor analysis. ...</td>\n",
       "    </tr>\n",
       "    <tr>\n",
       "      <th>1</th>\n",
       "      <td>2</td>\n",
       "      <td>1</td>\n",
       "      <td>ryanfranco</td>\n",
       "      <td>Foot glass pretty audience hit themselves. Amo...</td>\n",
       "    </tr>\n",
       "    <tr>\n",
       "      <th>2</th>\n",
       "      <td>3</td>\n",
       "      <td>2</td>\n",
       "      <td>lorichen</td>\n",
       "      <td>Listen treat keep worry. Miss husband tax but ...</td>\n",
       "    </tr>\n",
       "  </tbody>\n",
       "</table>\n",
       "</div>"
      ],
      "text/plain": [
       "   review_id  book_id      username  \\\n",
       "0          1        1  brandtandrea   \n",
       "1          2        1    ryanfranco   \n",
       "2          3        2      lorichen   \n",
       "\n",
       "                                                text  \n",
       "0  Mention society tell send professor analysis. ...  \n",
       "1  Foot glass pretty audience hit themselves. Amo...  \n",
       "2  Listen treat keep worry. Miss husband tax but ...  "
      ]
     },
     "metadata": {},
     "output_type": "display_data"
    },
    {
     "name": "stdout",
     "output_type": "stream",
     "text": [
      "<class 'pandas.core.frame.DataFrame'>\n",
      "RangeIndex: 2793 entries, 0 to 2792\n",
      "Data columns (total 4 columns):\n",
      " #   Column     Non-Null Count  Dtype \n",
      "---  ------     --------------  ----- \n",
      " 0   review_id  2793 non-null   int64 \n",
      " 1   book_id    2793 non-null   int64 \n",
      " 2   username   2793 non-null   object\n",
      " 3   text       2793 non-null   object\n",
      "dtypes: int64(2), object(2)\n",
      "memory usage: 87.4+ KB\n"
     ]
    },
    {
     "data": {
      "text/plain": [
       "None"
      ]
     },
     "metadata": {},
     "output_type": "display_data"
    }
   ],
   "source": [
    "# загружаем файл reviews\n",
    "\n",
    "query_reviews = '''\n",
    "            SELECT *\n",
    "            FROM reviews\n",
    "         '''\n",
    " \n",
    "reviews = pd.io.sql.read_sql(query_reviews, con = engine)\n",
    "display(reviews.head(3))\n",
    "display(reviews.info())"
   ]
  },
  {
   "cell_type": "markdown",
   "metadata": {},
   "source": [
    "### Выводы\n",
    "\n",
    "* таблица **books** содержит 5 полей и 1 000 записей\n",
    "* таблица **authors** содержит 2 поля и 636 записей\n",
    "* таблица **publishers** содержит 2 поля и 340 записей\n",
    "* таблица **ratings** содержит 4 поля и 6 456 записей\n",
    "* таблица **reviews** содержит 4 поля и 2 793 записи"
   ]
  },
  {
   "cell_type": "markdown",
   "metadata": {},
   "source": [
    "## Исследовальский анализ данных"
   ]
  },
  {
   "cell_type": "markdown",
   "metadata": {},
   "source": [
    "### Расчет кол-ва книг, вышедших после 1 января 2000 года"
   ]
  },
  {
   "cell_type": "code",
   "execution_count": 7,
   "metadata": {},
   "outputs": [
    {
     "data": {
      "text/html": [
       "<div>\n",
       "<style scoped>\n",
       "    .dataframe tbody tr th:only-of-type {\n",
       "        vertical-align: middle;\n",
       "    }\n",
       "\n",
       "    .dataframe tbody tr th {\n",
       "        vertical-align: top;\n",
       "    }\n",
       "\n",
       "    .dataframe thead th {\n",
       "        text-align: right;\n",
       "    }\n",
       "</style>\n",
       "<table border=\"1\" class=\"dataframe\">\n",
       "  <thead>\n",
       "    <tr style=\"text-align: right;\">\n",
       "      <th></th>\n",
       "      <th>published_books</th>\n",
       "    </tr>\n",
       "  </thead>\n",
       "  <tbody>\n",
       "    <tr>\n",
       "      <th>0</th>\n",
       "      <td>819</td>\n",
       "    </tr>\n",
       "  </tbody>\n",
       "</table>\n",
       "</div>"
      ],
      "text/plain": [
       "   published_books\n",
       "0              819"
      ]
     },
     "metadata": {},
     "output_type": "display_data"
    }
   ],
   "source": [
    "# выполняем условие > '2000-01-01',\n",
    "# считаем кол-во выпущенных книг в этот период\n",
    "\n",
    "query_publication_year = '''\n",
    "            SELECT COUNT (book_id) AS published_books\n",
    "            FROM books\n",
    "            WHERE publication_date > '2000-01-01';\n",
    "         '''\n",
    " \n",
    "publication_year = pd.io.sql.read_sql(query_publication_year, con = engine)\n",
    "display(publication_year)\n"
   ]
  },
  {
   "cell_type": "markdown",
   "metadata": {},
   "source": [
    "#### Выводы\n",
    "* на период издания после 1 января 2000 года приходится 819 книг"
   ]
  },
  {
   "cell_type": "markdown",
   "metadata": {},
   "source": [
    "### Расчет кол-ва обзоров и средней оценки для каждой книги"
   ]
  },
  {
   "cell_type": "code",
   "execution_count": 8,
   "metadata": {},
   "outputs": [
    {
     "data": {
      "text/html": [
       "<div>\n",
       "<style scoped>\n",
       "    .dataframe tbody tr th:only-of-type {\n",
       "        vertical-align: middle;\n",
       "    }\n",
       "\n",
       "    .dataframe tbody tr th {\n",
       "        vertical-align: top;\n",
       "    }\n",
       "\n",
       "    .dataframe thead th {\n",
       "        text-align: right;\n",
       "    }\n",
       "</style>\n",
       "<table border=\"1\" class=\"dataframe\">\n",
       "  <thead>\n",
       "    <tr style=\"text-align: right;\">\n",
       "      <th></th>\n",
       "      <th>book_id</th>\n",
       "      <th>title</th>\n",
       "      <th>review_number</th>\n",
       "      <th>rating_avg</th>\n",
       "    </tr>\n",
       "  </thead>\n",
       "  <tbody>\n",
       "    <tr>\n",
       "      <th>0</th>\n",
       "      <td>948</td>\n",
       "      <td>Twilight (Twilight  #1)</td>\n",
       "      <td>7</td>\n",
       "      <td>3.662500</td>\n",
       "    </tr>\n",
       "    <tr>\n",
       "      <th>1</th>\n",
       "      <td>963</td>\n",
       "      <td>Water for Elephants</td>\n",
       "      <td>6</td>\n",
       "      <td>3.977273</td>\n",
       "    </tr>\n",
       "    <tr>\n",
       "      <th>2</th>\n",
       "      <td>734</td>\n",
       "      <td>The Glass Castle</td>\n",
       "      <td>6</td>\n",
       "      <td>4.206897</td>\n",
       "    </tr>\n",
       "    <tr>\n",
       "      <th>3</th>\n",
       "      <td>302</td>\n",
       "      <td>Harry Potter and the Prisoner of Azkaban (Harr...</td>\n",
       "      <td>6</td>\n",
       "      <td>4.414634</td>\n",
       "    </tr>\n",
       "    <tr>\n",
       "      <th>4</th>\n",
       "      <td>695</td>\n",
       "      <td>The Curious Incident of the Dog in the Night-Time</td>\n",
       "      <td>6</td>\n",
       "      <td>4.081081</td>\n",
       "    </tr>\n",
       "    <tr>\n",
       "      <th>5</th>\n",
       "      <td>696</td>\n",
       "      <td>The Da Vinci Code (Robert Langdon  #2)</td>\n",
       "      <td>6</td>\n",
       "      <td>3.830508</td>\n",
       "    </tr>\n",
       "    <tr>\n",
       "      <th>6</th>\n",
       "      <td>627</td>\n",
       "      <td>The Alchemist</td>\n",
       "      <td>6</td>\n",
       "      <td>3.789474</td>\n",
       "    </tr>\n",
       "    <tr>\n",
       "      <th>7</th>\n",
       "      <td>750</td>\n",
       "      <td>The Hobbit  or There and Back Again</td>\n",
       "      <td>6</td>\n",
       "      <td>4.125000</td>\n",
       "    </tr>\n",
       "    <tr>\n",
       "      <th>8</th>\n",
       "      <td>656</td>\n",
       "      <td>The Book Thief</td>\n",
       "      <td>6</td>\n",
       "      <td>4.264151</td>\n",
       "    </tr>\n",
       "    <tr>\n",
       "      <th>9</th>\n",
       "      <td>779</td>\n",
       "      <td>The Lightning Thief (Percy Jackson and the Oly...</td>\n",
       "      <td>6</td>\n",
       "      <td>4.080645</td>\n",
       "    </tr>\n",
       "  </tbody>\n",
       "</table>\n",
       "</div>"
      ],
      "text/plain": [
       "   book_id                                              title  review_number  \\\n",
       "0      948                            Twilight (Twilight  #1)              7   \n",
       "1      963                                Water for Elephants              6   \n",
       "2      734                                   The Glass Castle              6   \n",
       "3      302  Harry Potter and the Prisoner of Azkaban (Harr...              6   \n",
       "4      695  The Curious Incident of the Dog in the Night-Time              6   \n",
       "5      696             The Da Vinci Code (Robert Langdon  #2)              6   \n",
       "6      627                                      The Alchemist              6   \n",
       "7      750                The Hobbit  or There and Back Again              6   \n",
       "8      656                                     The Book Thief              6   \n",
       "9      779  The Lightning Thief (Percy Jackson and the Oly...              6   \n",
       "\n",
       "   rating_avg  \n",
       "0    3.662500  \n",
       "1    3.977273  \n",
       "2    4.206897  \n",
       "3    4.414634  \n",
       "4    4.081081  \n",
       "5    3.830508  \n",
       "6    3.789474  \n",
       "7    4.125000  \n",
       "8    4.264151  \n",
       "9    4.080645  "
      ]
     },
     "metadata": {},
     "output_type": "display_data"
    },
    {
     "data": {
      "text/html": [
       "<div>\n",
       "<style scoped>\n",
       "    .dataframe tbody tr th:only-of-type {\n",
       "        vertical-align: middle;\n",
       "    }\n",
       "\n",
       "    .dataframe tbody tr th {\n",
       "        vertical-align: top;\n",
       "    }\n",
       "\n",
       "    .dataframe thead th {\n",
       "        text-align: right;\n",
       "    }\n",
       "</style>\n",
       "<table border=\"1\" class=\"dataframe\">\n",
       "  <thead>\n",
       "    <tr style=\"text-align: right;\">\n",
       "      <th></th>\n",
       "      <th>book_id</th>\n",
       "      <th>title</th>\n",
       "      <th>review_number</th>\n",
       "      <th>rating_avg</th>\n",
       "    </tr>\n",
       "  </thead>\n",
       "  <tbody>\n",
       "    <tr>\n",
       "      <th>990</th>\n",
       "      <td>413</td>\n",
       "      <td>Lysistrata</td>\n",
       "      <td>1</td>\n",
       "      <td>4.0</td>\n",
       "    </tr>\n",
       "    <tr>\n",
       "      <th>991</th>\n",
       "      <td>599</td>\n",
       "      <td>Stone of Farewell (Memory  Sorrow  and Thorn  #2)</td>\n",
       "      <td>1</td>\n",
       "      <td>5.0</td>\n",
       "    </tr>\n",
       "    <tr>\n",
       "      <th>992</th>\n",
       "      <td>535</td>\n",
       "      <td>Ranma ½  Vol. 1 (Ranma ½ (US 2nd)  #1)</td>\n",
       "      <td>1</td>\n",
       "      <td>4.0</td>\n",
       "    </tr>\n",
       "    <tr>\n",
       "      <th>993</th>\n",
       "      <td>510</td>\n",
       "      <td>Phantom (Sword of Truth  #10)</td>\n",
       "      <td>1</td>\n",
       "      <td>3.5</td>\n",
       "    </tr>\n",
       "    <tr>\n",
       "      <th>994</th>\n",
       "      <td>387</td>\n",
       "      <td>Leonardo's Notebooks</td>\n",
       "      <td>0</td>\n",
       "      <td>NaN</td>\n",
       "    </tr>\n",
       "    <tr>\n",
       "      <th>995</th>\n",
       "      <td>83</td>\n",
       "      <td>Anne Rice's The Vampire Lestat: A Graphic Novel</td>\n",
       "      <td>0</td>\n",
       "      <td>NaN</td>\n",
       "    </tr>\n",
       "    <tr>\n",
       "      <th>996</th>\n",
       "      <td>808</td>\n",
       "      <td>The Natural Way to Draw</td>\n",
       "      <td>0</td>\n",
       "      <td>NaN</td>\n",
       "    </tr>\n",
       "    <tr>\n",
       "      <th>997</th>\n",
       "      <td>672</td>\n",
       "      <td>The Cat in the Hat and Other Dr. Seuss Favorites</td>\n",
       "      <td>0</td>\n",
       "      <td>NaN</td>\n",
       "    </tr>\n",
       "    <tr>\n",
       "      <th>998</th>\n",
       "      <td>221</td>\n",
       "      <td>Essential Tales and Poems</td>\n",
       "      <td>0</td>\n",
       "      <td>NaN</td>\n",
       "    </tr>\n",
       "    <tr>\n",
       "      <th>999</th>\n",
       "      <td>191</td>\n",
       "      <td>Disney's Beauty and the Beast (A Little Golden...</td>\n",
       "      <td>0</td>\n",
       "      <td>NaN</td>\n",
       "    </tr>\n",
       "  </tbody>\n",
       "</table>\n",
       "</div>"
      ],
      "text/plain": [
       "     book_id                                              title  \\\n",
       "990      413                                         Lysistrata   \n",
       "991      599  Stone of Farewell (Memory  Sorrow  and Thorn  #2)   \n",
       "992      535             Ranma ½  Vol. 1 (Ranma ½ (US 2nd)  #1)   \n",
       "993      510                      Phantom (Sword of Truth  #10)   \n",
       "994      387                               Leonardo's Notebooks   \n",
       "995       83    Anne Rice's The Vampire Lestat: A Graphic Novel   \n",
       "996      808                            The Natural Way to Draw   \n",
       "997      672   The Cat in the Hat and Other Dr. Seuss Favorites   \n",
       "998      221                          Essential Tales and Poems   \n",
       "999      191  Disney's Beauty and the Beast (A Little Golden...   \n",
       "\n",
       "     review_number  rating_avg  \n",
       "990              1         4.0  \n",
       "991              1         5.0  \n",
       "992              1         4.0  \n",
       "993              1         3.5  \n",
       "994              0         NaN  \n",
       "995              0         NaN  \n",
       "996              0         NaN  \n",
       "997              0         NaN  \n",
       "998              0         NaN  \n",
       "999              0         NaN  "
      ]
     },
     "metadata": {},
     "output_type": "display_data"
    }
   ],
   "source": [
    "# объединяем таблицы book, reviews и ratings,\n",
    "# аггругируем данные по  book_id,\n",
    "# считаем кол-во отзывов и средний рейтинг\n",
    "\n",
    "query_review_rating = '''\n",
    "            SELECT b.book_id,\n",
    "            title,\n",
    "            COUNT(DISTINCT rev.review_id) AS review_number, AVG(r.rating) AS rating_avg\n",
    "            FROM books AS b LEFT JOIN reviews AS rev ON b.book_id = rev.book_id\n",
    "            LEFT JOIN ratings AS r ON rev.book_id = r.book_id\n",
    "            GROUP BY b.book_id\n",
    "            ORDER BY review_number DESC;\n",
    "            \n",
    "         '''\n",
    "\n",
    "review_rating = pd.io.sql.read_sql(query_review_rating, con = engine)\n",
    "display(review_rating.head(10))\n",
    "display(review_rating.tail(10))"
   ]
  },
  {
   "cell_type": "markdown",
   "metadata": {},
   "source": [
    "###### Выводы\n",
    "* из 1000 книг, находящихся в базе данных, 6 книг оказались без информации об оценках и без обзоров\n",
    "* ТОП 10 книг по по количеству отзывов - отзывы находятся в диапазоне о 6 до 7 шт на книгу\n",
    "* Самы популярные по кол-ву отзывов книги имеют средний рейтинг в диапазоне 3,66 (Twilight (Twilight #1) - 7 отзывов) - 4,41 (Harry Potter and the Prisoner of Azkaban - 6 отзывов)"
   ]
  },
  {
   "cell_type": "markdown",
   "metadata": {},
   "source": [
    "### Выявление издательства, которое выпустило наибольшее кол-во книг толще 50 стр."
   ]
  },
  {
   "cell_type": "code",
   "execution_count": 9,
   "metadata": {},
   "outputs": [
    {
     "data": {
      "text/html": [
       "<div>\n",
       "<style scoped>\n",
       "    .dataframe tbody tr th:only-of-type {\n",
       "        vertical-align: middle;\n",
       "    }\n",
       "\n",
       "    .dataframe tbody tr th {\n",
       "        vertical-align: top;\n",
       "    }\n",
       "\n",
       "    .dataframe thead th {\n",
       "        text-align: right;\n",
       "    }\n",
       "</style>\n",
       "<table border=\"1\" class=\"dataframe\">\n",
       "  <thead>\n",
       "    <tr style=\"text-align: right;\">\n",
       "      <th></th>\n",
       "      <th>publisher</th>\n",
       "      <th>books_number</th>\n",
       "    </tr>\n",
       "  </thead>\n",
       "  <tbody>\n",
       "    <tr>\n",
       "      <th>0</th>\n",
       "      <td>Penguin Books</td>\n",
       "      <td>42</td>\n",
       "    </tr>\n",
       "    <tr>\n",
       "      <th>1</th>\n",
       "      <td>Vintage</td>\n",
       "      <td>31</td>\n",
       "    </tr>\n",
       "    <tr>\n",
       "      <th>2</th>\n",
       "      <td>Grand Central Publishing</td>\n",
       "      <td>25</td>\n",
       "    </tr>\n",
       "    <tr>\n",
       "      <th>3</th>\n",
       "      <td>Penguin Classics</td>\n",
       "      <td>24</td>\n",
       "    </tr>\n",
       "    <tr>\n",
       "      <th>4</th>\n",
       "      <td>Ballantine Books</td>\n",
       "      <td>19</td>\n",
       "    </tr>\n",
       "    <tr>\n",
       "      <th>5</th>\n",
       "      <td>Bantam</td>\n",
       "      <td>19</td>\n",
       "    </tr>\n",
       "    <tr>\n",
       "      <th>6</th>\n",
       "      <td>Berkley</td>\n",
       "      <td>17</td>\n",
       "    </tr>\n",
       "    <tr>\n",
       "      <th>7</th>\n",
       "      <td>St. Martin's Press</td>\n",
       "      <td>14</td>\n",
       "    </tr>\n",
       "    <tr>\n",
       "      <th>8</th>\n",
       "      <td>Berkley Books</td>\n",
       "      <td>14</td>\n",
       "    </tr>\n",
       "    <tr>\n",
       "      <th>9</th>\n",
       "      <td>Delta</td>\n",
       "      <td>13</td>\n",
       "    </tr>\n",
       "  </tbody>\n",
       "</table>\n",
       "</div>"
      ],
      "text/plain": [
       "                  publisher  books_number\n",
       "0             Penguin Books            42\n",
       "1                   Vintage            31\n",
       "2  Grand Central Publishing            25\n",
       "3          Penguin Classics            24\n",
       "4          Ballantine Books            19\n",
       "5                    Bantam            19\n",
       "6                   Berkley            17\n",
       "7        St. Martin's Press            14\n",
       "8             Berkley Books            14\n",
       "9                     Delta            13"
      ]
     },
     "metadata": {},
     "output_type": "display_data"
    }
   ],
   "source": [
    "# объединяем таблицы books и publishers,\n",
    "# аггругируем данные по  publisher,\n",
    "# считаем кол-во book_id с количеством страниц больше 50\n",
    "\n",
    "query_publisher_top = '''\n",
    "            SELECT p.publisher,\n",
    "            COUNT(b.book_id) AS books_number\n",
    "            FROM books AS b FULL JOIN publishers AS p ON b.publisher_id = p.publisher_id\n",
    "            WHERE num_pages > 50\n",
    "            GROUP BY p.publisher\n",
    "            ORDER BY books_number DESC;\n",
    "            \n",
    "         '''\n",
    "\n",
    "publisher_top = pd.io.sql.read_sql(query_publisher_top, con = engine)\n",
    "display(publisher_top.head(10))"
   ]
  },
  {
   "cell_type": "markdown",
   "metadata": {},
   "source": [
    "#### Выводы\n",
    "\n",
    "* в ТОП 3 издательств по кол-ву выпущенных книг свыше 50 страниц (брошюры) в базе сервиса вошли:\n",
    "1. Penguin Books = 42 книги\n",
    "2. Vintage = 31 книга\n",
    "3. Grand Central Publishing = 25 книг"
   ]
  },
  {
   "cell_type": "markdown",
   "metadata": {},
   "source": [
    "### Выявление автора с самой высокой средней оценкой книг (книги с 50 и более оценками)"
   ]
  },
  {
   "cell_type": "code",
   "execution_count": 10,
   "metadata": {
    "scrolled": true
   },
   "outputs": [
    {
     "data": {
      "text/html": [
       "<div>\n",
       "<style scoped>\n",
       "    .dataframe tbody tr th:only-of-type {\n",
       "        vertical-align: middle;\n",
       "    }\n",
       "\n",
       "    .dataframe tbody tr th {\n",
       "        vertical-align: top;\n",
       "    }\n",
       "\n",
       "    .dataframe thead th {\n",
       "        text-align: right;\n",
       "    }\n",
       "</style>\n",
       "<table border=\"1\" class=\"dataframe\">\n",
       "  <thead>\n",
       "    <tr style=\"text-align: right;\">\n",
       "      <th></th>\n",
       "      <th>author</th>\n",
       "      <th>rating_avg</th>\n",
       "    </tr>\n",
       "  </thead>\n",
       "  <tbody>\n",
       "    <tr>\n",
       "      <th>0</th>\n",
       "      <td>J.K. Rowling/Mary GrandPré</td>\n",
       "      <td>4.287097</td>\n",
       "    </tr>\n",
       "    <tr>\n",
       "      <th>1</th>\n",
       "      <td>Markus Zusak/Cao Xuân Việt Khương</td>\n",
       "      <td>4.264151</td>\n",
       "    </tr>\n",
       "    <tr>\n",
       "      <th>2</th>\n",
       "      <td>J.R.R. Tolkien</td>\n",
       "      <td>4.246914</td>\n",
       "    </tr>\n",
       "    <tr>\n",
       "      <th>3</th>\n",
       "      <td>Louisa May Alcott</td>\n",
       "      <td>4.192308</td>\n",
       "    </tr>\n",
       "    <tr>\n",
       "      <th>4</th>\n",
       "      <td>Rick Riordan</td>\n",
       "      <td>4.080645</td>\n",
       "    </tr>\n",
       "    <tr>\n",
       "      <th>5</th>\n",
       "      <td>William Golding</td>\n",
       "      <td>3.901408</td>\n",
       "    </tr>\n",
       "    <tr>\n",
       "      <th>6</th>\n",
       "      <td>J.D. Salinger</td>\n",
       "      <td>3.825581</td>\n",
       "    </tr>\n",
       "    <tr>\n",
       "      <th>7</th>\n",
       "      <td>Paulo Coelho/Alan R. Clarke/Özdemir İnce</td>\n",
       "      <td>3.789474</td>\n",
       "    </tr>\n",
       "    <tr>\n",
       "      <th>8</th>\n",
       "      <td>William Shakespeare/Paul Werstine/Barbara A. M...</td>\n",
       "      <td>3.787879</td>\n",
       "    </tr>\n",
       "    <tr>\n",
       "      <th>9</th>\n",
       "      <td>Lois Lowry</td>\n",
       "      <td>3.750000</td>\n",
       "    </tr>\n",
       "    <tr>\n",
       "      <th>10</th>\n",
       "      <td>Dan Brown</td>\n",
       "      <td>3.741259</td>\n",
       "    </tr>\n",
       "    <tr>\n",
       "      <th>11</th>\n",
       "      <td>George Orwell/Boris Grabnar/Peter Škerl</td>\n",
       "      <td>3.729730</td>\n",
       "    </tr>\n",
       "    <tr>\n",
       "      <th>12</th>\n",
       "      <td>Stephenie Meyer</td>\n",
       "      <td>3.662500</td>\n",
       "    </tr>\n",
       "    <tr>\n",
       "      <th>13</th>\n",
       "      <td>John Steinbeck</td>\n",
       "      <td>3.622951</td>\n",
       "    </tr>\n",
       "  </tbody>\n",
       "</table>\n",
       "</div>"
      ],
      "text/plain": [
       "                                               author  rating_avg\n",
       "0                          J.K. Rowling/Mary GrandPré    4.287097\n",
       "1                   Markus Zusak/Cao Xuân Việt Khương    4.264151\n",
       "2                                      J.R.R. Tolkien    4.246914\n",
       "3                                   Louisa May Alcott    4.192308\n",
       "4                                        Rick Riordan    4.080645\n",
       "5                                     William Golding    3.901408\n",
       "6                                       J.D. Salinger    3.825581\n",
       "7            Paulo Coelho/Alan R. Clarke/Özdemir İnce    3.789474\n",
       "8   William Shakespeare/Paul Werstine/Barbara A. M...    3.787879\n",
       "9                                          Lois Lowry    3.750000\n",
       "10                                          Dan Brown    3.741259\n",
       "11            George Orwell/Boris Grabnar/Peter Škerl    3.729730\n",
       "12                                    Stephenie Meyer    3.662500\n",
       "13                                     John Steinbeck    3.622951"
      ]
     },
     "metadata": {},
     "output_type": "display_data"
    }
   ],
   "source": [
    "# Создать общую таблицу from books присоединив нужные нам таблицы - ratings (по book_id) и authors (по author_id)\n",
    "# Группируем по book_id и author_id\n",
    "# Добавляем фильтр HAVING COUNT(rating_id) >= 50 (достаточно одного раза)\n",
    "# Cгруппировать по авторам и рассчитать среднюю оценку каждого (т.к. у некоторых несколько книг).\n",
    "\n",
    "query_author_top = '''\n",
    "            SELECT a.author,\n",
    "            AVG(r.rating) AS rating_avg\n",
    "            FROM books AS b FULL JOIN ratings AS r ON b.book_id = r.book_id\n",
    "            FULL JOIN authors As a ON b.author_id = a.author_id\n",
    "            WHERE b.book_id IN (\n",
    "                                SELECT book_id\n",
    "                                FROM ratings\n",
    "                                GROUP BY book_id\n",
    "                                HAVING COUNT(rating_id) >= 50\n",
    "                                )\n",
    "            GROUP BY a.author\n",
    "            ORDER BY rating_avg DESC;\n",
    "         '''\n",
    "\n",
    "author_top = pd.io.sql.read_sql(query_author_top, con = engine)\n",
    "display(author_top)"
   ]
  },
  {
   "cell_type": "markdown",
   "metadata": {},
   "source": [
    "#### Выводы\n",
    "* 14 авторов попали в список авторов, чьи книги набрали более 50 оценок\n",
    "* самую высокую среднюю оценку **4.29** книг среди них получили соавторы **J.K. Rowling/Mary GrandPré**"
   ]
  },
  {
   "cell_type": "markdown",
   "metadata": {},
   "source": [
    "### Расчет среднего кол-ва обзоров от пользователей, которые поставили больше 50 оценок"
   ]
  },
  {
   "cell_type": "code",
   "execution_count": 11,
   "metadata": {},
   "outputs": [
    {
     "data": {
      "text/html": [
       "<div>\n",
       "<style scoped>\n",
       "    .dataframe tbody tr th:only-of-type {\n",
       "        vertical-align: middle;\n",
       "    }\n",
       "\n",
       "    .dataframe tbody tr th {\n",
       "        vertical-align: top;\n",
       "    }\n",
       "\n",
       "    .dataframe thead th {\n",
       "        text-align: right;\n",
       "    }\n",
       "</style>\n",
       "<table border=\"1\" class=\"dataframe\">\n",
       "  <thead>\n",
       "    <tr style=\"text-align: right;\">\n",
       "      <th></th>\n",
       "      <th>avg</th>\n",
       "    </tr>\n",
       "  </thead>\n",
       "  <tbody>\n",
       "    <tr>\n",
       "      <th>0</th>\n",
       "      <td>24.333333</td>\n",
       "    </tr>\n",
       "  </tbody>\n",
       "</table>\n",
       "</div>"
      ],
      "text/plain": [
       "         avg\n",
       "0  24.333333"
      ]
     },
     "metadata": {},
     "output_type": "display_data"
    }
   ],
   "source": [
    "# объединяем таблицы books, ratings и author,\n",
    "# делаем выборку книг с кол-вом оценок >= 50,\n",
    "# аггрегируем данные по авторам, считаем средний рейтинг\n",
    "\n",
    "query_review_avg = '''\n",
    "            SELECT AVG(rev_count)\n",
    "            FROM (\n",
    "            SELECT username,\n",
    "            COUNT(DISTINCT review_id) AS rev_count\n",
    "            FROM reviews\n",
    "            WHERE username IN (SELECT username\n",
    "                                FROM ratings\n",
    "                                GROUP BY username\n",
    "                                HAVING COUNT(DISTINCT rating_id) > 50)\n",
    "            GROUP BY username) AS final;\n",
    "    \n",
    "            \n",
    "         '''\n",
    "\n",
    "review_avg = pd.io.sql.read_sql(query_review_avg, con = engine)\n",
    "display(review_avg)"
   ]
  },
  {
   "cell_type": "markdown",
   "metadata": {},
   "source": [
    "#### Выводы\n",
    "* в среднем пользователи, которые ставят больше 50 оценок, делают 24,33 обзора"
   ]
  },
  {
   "cell_type": "markdown",
   "metadata": {},
   "source": [
    "## Рекомендации\n",
    "* первичный **анализ базы** данных показал, что в ней **зарегистрировано**:\n",
    ">\n",
    "> **1 000** книг, \n",
    ">\n",
    "> которые пренадлежат перу **636** авторов,\n",
    ">\n",
    "> были изданы **340** издателемя,\n",
    ">\n",
    "> получили **6 456** оценок и \n",
    ">\n",
    "> **2 793** отзывов\n",
    ">\n",
    "* 82% книг приходятся изданными на период после 1 января 2000 года, что характеризует БД как достаточно современный контент. При этом 552 книги (55%) приходятся на период с 2003 по 2006 год. Это неплохая база для развития ценностного предложения с точки зрения выбора современной литературы. Но тогда рекомендуется нарастить селекцию и увеличить закупку произведений, изданных после 2006 года.\n",
    "* Низкая доля (6 из 1 000) книг, оставшихся без оценок и отзывов, показывает достаточно высокий уровень лояльности клиентской базы. Рекомендуется использовать этот факт при формулировке ценностного предложения. \n",
    "* Лидерство издательства Penguin Books, которое заняло 1-е место с 44 книгами и 4-е с 24 в своей версии Penguin Books classics свидетельствует о преобладании семенйых ценностей в текущем ассортименте и у текущей аудитории сервиса. Тема вечная - рекомендуется к развитию.\n",
    "* более половины авторов, получивших самые высокие средние оценки книг также издаются в Penguin Books, что подтверждает приверженность текущей аудитории сервиса к издательству и семейно - психологическим ценностям.\n",
    "* Высокая активность пользователей (24 обзора среди тех, кто поставил более 50 оценок) подтверждает лояльность аудитории. "
   ]
  }
 ],
 "metadata": {
  "ExecuteTimeLog": [
   {
    "duration": 11640,
    "start_time": "2022-03-26T10:57:56.381Z"
   },
   {
    "duration": 199,
    "start_time": "2022-03-26T11:00:37.917Z"
   },
   {
    "duration": 39,
    "start_time": "2022-03-26T11:00:55.783Z"
   },
   {
    "duration": 212,
    "start_time": "2022-03-26T11:09:15.748Z"
   },
   {
    "duration": 175,
    "start_time": "2022-03-26T11:10:13.065Z"
   },
   {
    "duration": 48,
    "start_time": "2022-03-26T11:18:10.587Z"
   },
   {
    "duration": 21249,
    "start_time": "2022-03-26T11:18:30.592Z"
   },
   {
    "duration": 52,
    "start_time": "2022-03-26T11:18:51.843Z"
   },
   {
    "duration": 35,
    "start_time": "2022-03-26T11:19:21.272Z"
   },
   {
    "duration": 28,
    "start_time": "2022-03-26T11:21:32.327Z"
   },
   {
    "duration": 29,
    "start_time": "2022-03-26T11:21:57.738Z"
   },
   {
    "duration": 23,
    "start_time": "2022-03-26T11:21:58.430Z"
   },
   {
    "duration": 24,
    "start_time": "2022-03-26T11:23:03.582Z"
   },
   {
    "duration": 42,
    "start_time": "2022-03-26T11:24:12.532Z"
   },
   {
    "duration": 30,
    "start_time": "2022-03-26T11:25:38.578Z"
   },
   {
    "duration": 49,
    "start_time": "2022-03-26T14:24:11.993Z"
   },
   {
    "duration": 6979,
    "start_time": "2022-03-26T14:24:22.278Z"
   },
   {
    "duration": 271,
    "start_time": "2022-03-26T14:24:29.260Z"
   },
   {
    "duration": 80,
    "start_time": "2022-03-26T14:24:29.532Z"
   },
   {
    "duration": 78,
    "start_time": "2022-03-26T14:24:29.614Z"
   },
   {
    "duration": 101,
    "start_time": "2022-03-26T14:24:29.694Z"
   },
   {
    "duration": 94,
    "start_time": "2022-03-26T14:24:29.796Z"
   },
   {
    "duration": 277,
    "start_time": "2022-03-26T14:24:29.891Z"
   },
   {
    "duration": 96,
    "start_time": "2022-03-26T14:27:37.300Z"
   },
   {
    "duration": 195,
    "start_time": "2022-03-26T14:35:09.004Z"
   },
   {
    "duration": 211,
    "start_time": "2022-03-26T14:36:24.913Z"
   },
   {
    "duration": 193,
    "start_time": "2022-03-26T14:38:05.106Z"
   },
   {
    "duration": 192,
    "start_time": "2022-03-26T14:38:30.662Z"
   },
   {
    "duration": 193,
    "start_time": "2022-03-26T14:39:31.487Z"
   },
   {
    "duration": 189,
    "start_time": "2022-03-26T14:39:47.405Z"
   },
   {
    "duration": 73,
    "start_time": "2022-03-26T14:40:22.123Z"
   },
   {
    "duration": 90,
    "start_time": "2022-03-26T14:40:57.855Z"
   },
   {
    "duration": 4,
    "start_time": "2022-03-26T14:44:42.590Z"
   },
   {
    "duration": 194,
    "start_time": "2022-03-26T15:16:42.173Z"
   },
   {
    "duration": 200,
    "start_time": "2022-03-26T15:18:05.616Z"
   },
   {
    "duration": 188,
    "start_time": "2022-03-26T15:22:22.934Z"
   },
   {
    "duration": 192,
    "start_time": "2022-03-26T15:23:55.570Z"
   },
   {
    "duration": 188,
    "start_time": "2022-03-26T15:24:34.530Z"
   },
   {
    "duration": 196,
    "start_time": "2022-03-26T15:24:51.942Z"
   },
   {
    "duration": 185,
    "start_time": "2022-03-26T15:27:34.469Z"
   },
   {
    "duration": 182,
    "start_time": "2022-03-26T15:27:46.029Z"
   },
   {
    "duration": 103,
    "start_time": "2022-03-26T15:28:10.631Z"
   },
   {
    "duration": 103,
    "start_time": "2022-03-26T15:30:44.393Z"
   },
   {
    "duration": 103,
    "start_time": "2022-03-26T15:31:33.491Z"
   },
   {
    "duration": 215,
    "start_time": "2022-03-26T15:32:05.892Z"
   },
   {
    "duration": 104,
    "start_time": "2022-03-26T15:32:43.808Z"
   },
   {
    "duration": 104,
    "start_time": "2022-03-26T15:32:57.339Z"
   },
   {
    "duration": 185,
    "start_time": "2022-03-26T15:35:12.042Z"
   },
   {
    "duration": 104,
    "start_time": "2022-03-26T15:35:24.884Z"
   },
   {
    "duration": 102,
    "start_time": "2022-03-26T15:36:21.956Z"
   },
   {
    "duration": 102,
    "start_time": "2022-03-26T15:37:45.464Z"
   },
   {
    "duration": 104,
    "start_time": "2022-03-26T15:38:31.426Z"
   },
   {
    "duration": 103,
    "start_time": "2022-03-26T15:38:47.782Z"
   },
   {
    "duration": 110,
    "start_time": "2022-03-26T15:39:27.911Z"
   },
   {
    "duration": 102,
    "start_time": "2022-03-26T15:39:43.476Z"
   },
   {
    "duration": 103,
    "start_time": "2022-03-26T15:41:42.578Z"
   },
   {
    "duration": 48,
    "start_time": "2022-03-26T15:52:37.895Z"
   },
   {
    "duration": 6991,
    "start_time": "2022-03-26T15:52:52.054Z"
   },
   {
    "duration": 217,
    "start_time": "2022-03-26T15:52:59.047Z"
   },
   {
    "duration": 66,
    "start_time": "2022-03-26T15:52:59.265Z"
   },
   {
    "duration": 66,
    "start_time": "2022-03-26T15:52:59.332Z"
   },
   {
    "duration": 93,
    "start_time": "2022-03-26T15:52:59.400Z"
   },
   {
    "duration": 82,
    "start_time": "2022-03-26T15:52:59.495Z"
   },
   {
    "duration": 62,
    "start_time": "2022-03-26T15:52:59.579Z"
   },
   {
    "duration": 73,
    "start_time": "2022-03-26T15:52:59.643Z"
   },
   {
    "duration": 78,
    "start_time": "2022-03-26T15:57:06.978Z"
   },
   {
    "duration": 77,
    "start_time": "2022-03-26T15:57:24.502Z"
   },
   {
    "duration": 84,
    "start_time": "2022-03-26T15:58:26.762Z"
   },
   {
    "duration": 85,
    "start_time": "2022-03-26T16:15:00.714Z"
   },
   {
    "duration": 7569,
    "start_time": "2022-03-26T16:15:32.712Z"
   },
   {
    "duration": 209,
    "start_time": "2022-03-26T16:15:40.283Z"
   },
   {
    "duration": 63,
    "start_time": "2022-03-26T16:15:40.493Z"
   },
   {
    "duration": 64,
    "start_time": "2022-03-26T16:15:40.558Z"
   },
   {
    "duration": 89,
    "start_time": "2022-03-26T16:15:40.624Z"
   },
   {
    "duration": 75,
    "start_time": "2022-03-26T16:15:40.714Z"
   },
   {
    "duration": 56,
    "start_time": "2022-03-26T16:15:40.791Z"
   },
   {
    "duration": 72,
    "start_time": "2022-03-26T16:15:40.849Z"
   },
   {
    "duration": 66,
    "start_time": "2022-03-26T16:15:40.922Z"
   },
   {
    "duration": 195,
    "start_time": "2022-03-26T16:17:27.851Z"
   },
   {
    "duration": 141,
    "start_time": "2022-03-26T16:18:00.262Z"
   },
   {
    "duration": 141,
    "start_time": "2022-03-26T16:18:21.657Z"
   },
   {
    "duration": 56,
    "start_time": "2022-03-26T16:19:39.943Z"
   },
   {
    "duration": 60,
    "start_time": "2022-03-26T16:20:23.595Z"
   },
   {
    "duration": 147,
    "start_time": "2022-03-26T16:42:46.597Z"
   },
   {
    "duration": 127,
    "start_time": "2022-03-26T16:43:09.042Z"
   },
   {
    "duration": 133,
    "start_time": "2022-03-26T16:43:31.799Z"
   },
   {
    "duration": 122,
    "start_time": "2022-03-26T16:43:49.734Z"
   },
   {
    "duration": 121,
    "start_time": "2022-03-26T16:44:49.012Z"
   },
   {
    "duration": 170,
    "start_time": "2022-03-26T16:45:52.577Z"
   },
   {
    "duration": 132,
    "start_time": "2022-03-26T16:48:08.256Z"
   },
   {
    "duration": 128,
    "start_time": "2022-03-26T16:50:18.447Z"
   },
   {
    "duration": 131,
    "start_time": "2022-03-26T17:49:01.421Z"
   },
   {
    "duration": 86,
    "start_time": "2022-03-26T17:49:44.431Z"
   },
   {
    "duration": 85,
    "start_time": "2022-03-26T17:50:10.934Z"
   },
   {
    "duration": 83,
    "start_time": "2022-03-26T17:50:23.030Z"
   },
   {
    "duration": 89,
    "start_time": "2022-03-26T17:52:34.195Z"
   },
   {
    "duration": 134,
    "start_time": "2022-03-26T17:57:34.449Z"
   },
   {
    "duration": 55,
    "start_time": "2022-03-26T17:58:04.073Z"
   },
   {
    "duration": 122,
    "start_time": "2022-03-26T17:58:54.129Z"
   },
   {
    "duration": 125,
    "start_time": "2022-03-26T18:00:16.989Z"
   },
   {
    "duration": 65,
    "start_time": "2022-03-26T18:00:48.681Z"
   },
   {
    "duration": 70,
    "start_time": "2022-03-26T18:02:27.131Z"
   },
   {
    "duration": 65,
    "start_time": "2022-03-26T18:03:23.624Z"
   },
   {
    "duration": 222,
    "start_time": "2022-03-26T18:04:06.987Z"
   },
   {
    "duration": 159,
    "start_time": "2022-03-26T18:09:01.166Z"
   },
   {
    "duration": 65,
    "start_time": "2022-03-26T18:09:18.985Z"
   },
   {
    "duration": 131,
    "start_time": "2022-03-26T18:12:04.027Z"
   },
   {
    "duration": 131,
    "start_time": "2022-03-26T18:16:18.698Z"
   },
   {
    "duration": 164,
    "start_time": "2022-03-26T18:16:58.882Z"
   },
   {
    "duration": 123,
    "start_time": "2022-03-26T18:29:25.815Z"
   },
   {
    "duration": 60,
    "start_time": "2022-03-26T18:33:29.625Z"
   },
   {
    "duration": 61,
    "start_time": "2022-03-26T18:36:22.837Z"
   },
   {
    "duration": 58,
    "start_time": "2022-03-26T18:37:25.447Z"
   },
   {
    "duration": 59,
    "start_time": "2022-03-26T18:37:48.797Z"
   },
   {
    "duration": 59,
    "start_time": "2022-03-26T18:41:02.269Z"
   },
   {
    "duration": 128,
    "start_time": "2022-03-26T19:05:39.067Z"
   },
   {
    "duration": 132,
    "start_time": "2022-03-26T19:06:10.175Z"
   },
   {
    "duration": 126,
    "start_time": "2022-03-26T19:09:40.191Z"
   },
   {
    "duration": 127,
    "start_time": "2022-03-26T19:10:14.295Z"
   },
   {
    "duration": 152,
    "start_time": "2022-03-26T19:13:01.600Z"
   },
   {
    "duration": 62,
    "start_time": "2022-03-26T19:13:36.563Z"
   },
   {
    "duration": 61,
    "start_time": "2022-03-26T19:13:52.007Z"
   },
   {
    "duration": 62,
    "start_time": "2022-03-26T19:14:09.545Z"
   },
   {
    "duration": 139,
    "start_time": "2022-03-26T19:14:39.409Z"
   },
   {
    "duration": 128,
    "start_time": "2022-03-26T19:16:32.805Z"
   },
   {
    "duration": 139,
    "start_time": "2022-03-26T19:17:08.132Z"
   },
   {
    "duration": 147,
    "start_time": "2022-03-26T19:17:31.676Z"
   },
   {
    "duration": 139,
    "start_time": "2022-03-26T19:18:02.285Z"
   },
   {
    "duration": 123,
    "start_time": "2022-03-26T19:18:27.169Z"
   },
   {
    "duration": 127,
    "start_time": "2022-03-26T19:19:44.745Z"
   },
   {
    "duration": 125,
    "start_time": "2022-03-26T19:20:26.556Z"
   },
   {
    "duration": 149,
    "start_time": "2022-03-26T19:21:50.469Z"
   },
   {
    "duration": 130,
    "start_time": "2022-03-26T19:22:39.165Z"
   },
   {
    "duration": 163,
    "start_time": "2022-03-26T19:27:21.514Z"
   },
   {
    "duration": 168,
    "start_time": "2022-03-26T19:28:00.130Z"
   },
   {
    "duration": 130,
    "start_time": "2022-03-26T19:28:41.171Z"
   },
   {
    "duration": 149,
    "start_time": "2022-03-26T19:29:58.809Z"
   },
   {
    "duration": 70,
    "start_time": "2022-03-26T19:30:40.913Z"
   },
   {
    "duration": 68,
    "start_time": "2022-03-26T19:31:16.989Z"
   },
   {
    "duration": 124,
    "start_time": "2022-03-26T19:32:11.526Z"
   },
   {
    "duration": 135,
    "start_time": "2022-03-26T19:33:25.406Z"
   },
   {
    "duration": 130,
    "start_time": "2022-03-26T19:34:11.257Z"
   },
   {
    "duration": 133,
    "start_time": "2022-03-26T19:44:19.123Z"
   },
   {
    "duration": 157,
    "start_time": "2022-03-26T19:45:58.022Z"
   },
   {
    "duration": 130,
    "start_time": "2022-03-26T19:48:54.233Z"
   },
   {
    "duration": 167,
    "start_time": "2022-03-26T19:49:00.928Z"
   },
   {
    "duration": 7232,
    "start_time": "2022-03-26T19:49:09.532Z"
   },
   {
    "duration": 240,
    "start_time": "2022-03-26T19:49:16.766Z"
   },
   {
    "duration": 71,
    "start_time": "2022-03-26T19:49:17.007Z"
   },
   {
    "duration": 69,
    "start_time": "2022-03-26T19:49:17.080Z"
   },
   {
    "duration": 98,
    "start_time": "2022-03-26T19:49:17.151Z"
   },
   {
    "duration": 82,
    "start_time": "2022-03-26T19:49:17.251Z"
   },
   {
    "duration": 66,
    "start_time": "2022-03-26T19:49:17.335Z"
   },
   {
    "duration": 82,
    "start_time": "2022-03-26T19:49:17.403Z"
   },
   {
    "duration": 64,
    "start_time": "2022-03-26T19:49:17.487Z"
   },
   {
    "duration": 67,
    "start_time": "2022-03-26T19:49:17.553Z"
   },
   {
    "duration": 201,
    "start_time": "2022-03-26T19:49:17.621Z"
   },
   {
    "duration": 0,
    "start_time": "2022-03-26T19:49:17.824Z"
   },
   {
    "duration": 63,
    "start_time": "2022-03-26T19:55:38.088Z"
   },
   {
    "duration": 144,
    "start_time": "2022-03-26T19:57:20.061Z"
   },
   {
    "duration": 130,
    "start_time": "2022-03-26T19:57:55.453Z"
   },
   {
    "duration": 123,
    "start_time": "2022-03-26T19:58:24.747Z"
   },
   {
    "duration": 64,
    "start_time": "2022-03-26T20:03:08.306Z"
   },
   {
    "duration": 63,
    "start_time": "2022-03-26T20:03:17.651Z"
   },
   {
    "duration": 61,
    "start_time": "2022-03-26T20:07:28.347Z"
   },
   {
    "duration": 64,
    "start_time": "2022-03-26T20:11:07.312Z"
   },
   {
    "duration": 64,
    "start_time": "2022-03-26T20:12:00.953Z"
   },
   {
    "duration": 64,
    "start_time": "2022-03-26T20:12:19.514Z"
   },
   {
    "duration": 162,
    "start_time": "2022-03-26T20:15:29.593Z"
   },
   {
    "duration": 139,
    "start_time": "2022-03-26T20:22:38.085Z"
   },
   {
    "duration": 66,
    "start_time": "2022-03-26T20:23:41.940Z"
   },
   {
    "duration": 142,
    "start_time": "2022-03-26T20:28:34.811Z"
   },
   {
    "duration": 64,
    "start_time": "2022-03-26T20:37:04.078Z"
   },
   {
    "duration": 7882,
    "start_time": "2022-03-27T05:04:27.349Z"
   },
   {
    "duration": 316,
    "start_time": "2022-03-27T05:04:35.233Z"
   },
   {
    "duration": 78,
    "start_time": "2022-03-27T05:04:35.550Z"
   },
   {
    "duration": 77,
    "start_time": "2022-03-27T05:04:35.630Z"
   },
   {
    "duration": 99,
    "start_time": "2022-03-27T05:04:35.709Z"
   },
   {
    "duration": 91,
    "start_time": "2022-03-27T05:04:35.809Z"
   },
   {
    "duration": 72,
    "start_time": "2022-03-27T05:04:35.902Z"
   },
   {
    "duration": 92,
    "start_time": "2022-03-27T05:04:35.977Z"
   },
   {
    "duration": 71,
    "start_time": "2022-03-27T05:04:36.071Z"
   },
   {
    "duration": 74,
    "start_time": "2022-03-27T05:04:36.144Z"
   },
   {
    "duration": 73,
    "start_time": "2022-03-27T05:04:36.220Z"
   },
   {
    "duration": 72,
    "start_time": "2022-03-27T05:08:32.369Z"
   },
   {
    "duration": 72,
    "start_time": "2022-03-27T05:09:04.226Z"
   },
   {
    "duration": 72,
    "start_time": "2022-03-27T05:09:10.365Z"
   },
   {
    "duration": 69,
    "start_time": "2022-03-27T08:03:11.964Z"
   },
   {
    "duration": 7090,
    "start_time": "2022-03-27T08:03:21.241Z"
   },
   {
    "duration": 274,
    "start_time": "2022-03-27T08:03:28.333Z"
   },
   {
    "duration": 81,
    "start_time": "2022-03-27T08:03:28.608Z"
   },
   {
    "duration": 79,
    "start_time": "2022-03-27T08:03:28.691Z"
   },
   {
    "duration": 104,
    "start_time": "2022-03-27T08:03:28.772Z"
   },
   {
    "duration": 98,
    "start_time": "2022-03-27T08:03:28.878Z"
   },
   {
    "duration": 303,
    "start_time": "2022-03-27T08:03:28.978Z"
   },
   {
    "duration": 0,
    "start_time": "2022-03-27T08:03:29.283Z"
   },
   {
    "duration": 0,
    "start_time": "2022-03-27T08:03:29.285Z"
   },
   {
    "duration": 0,
    "start_time": "2022-03-27T08:03:29.286Z"
   },
   {
    "duration": 0,
    "start_time": "2022-03-27T08:03:29.287Z"
   },
   {
    "duration": 228,
    "start_time": "2022-03-27T08:05:38.831Z"
   },
   {
    "duration": 194,
    "start_time": "2022-03-27T08:06:21.159Z"
   },
   {
    "duration": 216,
    "start_time": "2022-03-27T08:07:15.273Z"
   },
   {
    "duration": 189,
    "start_time": "2022-03-27T08:13:05.062Z"
   },
   {
    "duration": 194,
    "start_time": "2022-03-27T08:13:21.665Z"
   },
   {
    "duration": 187,
    "start_time": "2022-03-27T08:13:48.179Z"
   },
   {
    "duration": 201,
    "start_time": "2022-03-27T08:14:14.771Z"
   },
   {
    "duration": 218,
    "start_time": "2022-03-27T08:17:34.956Z"
   },
   {
    "duration": 189,
    "start_time": "2022-03-27T08:18:09.047Z"
   },
   {
    "duration": 183,
    "start_time": "2022-03-27T08:18:24.658Z"
   },
   {
    "duration": 195,
    "start_time": "2022-03-27T08:18:39.543Z"
   },
   {
    "duration": 186,
    "start_time": "2022-03-27T08:18:56.844Z"
   },
   {
    "duration": 234,
    "start_time": "2022-03-27T08:24:44.369Z"
   },
   {
    "duration": 223,
    "start_time": "2022-03-27T08:29:01.305Z"
   },
   {
    "duration": 192,
    "start_time": "2022-03-27T08:30:27.144Z"
   },
   {
    "duration": 73,
    "start_time": "2022-03-27T08:30:54.502Z"
   },
   {
    "duration": 71,
    "start_time": "2022-03-27T08:32:46.604Z"
   },
   {
    "duration": 112,
    "start_time": "2022-03-27T08:35:14.419Z"
   },
   {
    "duration": 112,
    "start_time": "2022-03-27T08:41:57.915Z"
   },
   {
    "duration": 76,
    "start_time": "2022-03-27T08:47:52.750Z"
   },
   {
    "duration": 195,
    "start_time": "2022-03-27T08:54:46.051Z"
   },
   {
    "duration": 184,
    "start_time": "2022-03-27T08:55:44.505Z"
   },
   {
    "duration": 6616,
    "start_time": "2022-03-27T08:56:46.934Z"
   },
   {
    "duration": 4885,
    "start_time": "2022-03-27T08:57:20.859Z"
   },
   {
    "duration": 5301,
    "start_time": "2022-03-27T08:57:44.967Z"
   },
   {
    "duration": 5553,
    "start_time": "2022-03-27T08:58:37.865Z"
   },
   {
    "duration": 5103,
    "start_time": "2022-03-27T09:00:27.740Z"
   },
   {
    "duration": 6827,
    "start_time": "2022-03-27T09:06:07.358Z"
   },
   {
    "duration": 288,
    "start_time": "2022-03-27T09:06:14.187Z"
   },
   {
    "duration": 89,
    "start_time": "2022-03-27T09:06:14.476Z"
   },
   {
    "duration": 77,
    "start_time": "2022-03-27T09:06:14.567Z"
   },
   {
    "duration": 138,
    "start_time": "2022-03-27T09:06:14.645Z"
   },
   {
    "duration": 123,
    "start_time": "2022-03-27T09:06:14.784Z"
   },
   {
    "duration": 69,
    "start_time": "2022-03-27T09:06:14.909Z"
   },
   {
    "duration": 93,
    "start_time": "2022-03-27T09:06:14.980Z"
   },
   {
    "duration": 72,
    "start_time": "2022-03-27T09:06:15.074Z"
   },
   {
    "duration": 5309,
    "start_time": "2022-03-27T09:06:15.148Z"
   },
   {
    "duration": 75,
    "start_time": "2022-03-27T09:06:20.458Z"
   },
   {
    "duration": 19060,
    "start_time": "2022-03-27T17:44:26.427Z"
   },
   {
    "duration": 54,
    "start_time": "2022-03-27T17:44:45.490Z"
   },
   {
    "duration": 22,
    "start_time": "2022-03-27T17:44:45.546Z"
   },
   {
    "duration": 23,
    "start_time": "2022-03-27T17:44:45.570Z"
   },
   {
    "duration": 55,
    "start_time": "2022-03-27T17:44:45.595Z"
   },
   {
    "duration": 31,
    "start_time": "2022-03-27T17:44:45.652Z"
   },
   {
    "duration": 12,
    "start_time": "2022-03-27T17:44:45.685Z"
   },
   {
    "duration": 49,
    "start_time": "2022-03-27T17:44:45.699Z"
   },
   {
    "duration": 16,
    "start_time": "2022-03-27T17:44:45.750Z"
   },
   {
    "duration": 5300,
    "start_time": "2022-03-27T17:44:45.769Z"
   },
   {
    "duration": 16,
    "start_time": "2022-03-27T17:44:51.071Z"
   },
   {
    "duration": 281,
    "start_time": "2022-03-27T17:45:16.647Z"
   },
   {
    "duration": 189,
    "start_time": "2022-03-27T17:45:21.222Z"
   },
   {
    "duration": 2726,
    "start_time": "2022-03-27T17:45:51.655Z"
   },
   {
    "duration": 16,
    "start_time": "2022-03-27T17:45:59.316Z"
   },
   {
    "duration": 81,
    "start_time": "2022-03-27T18:50:04.918Z"
   },
   {
    "duration": 6389,
    "start_time": "2022-03-27T18:50:28.157Z"
   },
   {
    "duration": 228,
    "start_time": "2022-03-27T18:50:34.549Z"
   },
   {
    "duration": 73,
    "start_time": "2022-03-27T18:50:34.779Z"
   },
   {
    "duration": 72,
    "start_time": "2022-03-27T18:50:34.855Z"
   },
   {
    "duration": 110,
    "start_time": "2022-03-27T18:50:34.930Z"
   },
   {
    "duration": 87,
    "start_time": "2022-03-27T18:50:35.043Z"
   },
   {
    "duration": 57,
    "start_time": "2022-03-27T18:50:35.132Z"
   },
   {
    "duration": 89,
    "start_time": "2022-03-27T18:50:35.191Z"
   },
   {
    "duration": 61,
    "start_time": "2022-03-27T18:50:35.283Z"
   },
   {
    "duration": 288,
    "start_time": "2022-03-27T18:50:35.349Z"
   },
   {
    "duration": 0,
    "start_time": "2022-03-27T18:50:35.641Z"
   },
   {
    "duration": 171,
    "start_time": "2022-03-27T18:51:03.428Z"
   },
   {
    "duration": 456,
    "start_time": "2022-03-27T18:51:32.475Z"
   },
   {
    "duration": 179,
    "start_time": "2022-03-27T18:53:39.450Z"
   },
   {
    "duration": 188,
    "start_time": "2022-03-27T18:54:17.975Z"
   },
   {
    "duration": 72,
    "start_time": "2022-03-27T18:54:50.600Z"
   },
   {
    "duration": 65,
    "start_time": "2022-03-27T18:55:33.040Z"
   },
   {
    "duration": 64,
    "start_time": "2022-03-27T18:56:48.437Z"
   },
   {
    "duration": 64,
    "start_time": "2022-03-27T18:56:56.006Z"
   },
   {
    "duration": 176,
    "start_time": "2022-03-27T18:58:31.356Z"
   },
   {
    "duration": 174,
    "start_time": "2022-03-27T19:00:55.660Z"
   },
   {
    "duration": 195,
    "start_time": "2022-03-27T19:01:05.195Z"
   },
   {
    "duration": 66,
    "start_time": "2022-03-27T19:01:41.664Z"
   },
   {
    "duration": 168,
    "start_time": "2022-03-27T19:15:50.607Z"
   },
   {
    "duration": 67,
    "start_time": "2022-03-27T19:16:17.892Z"
   },
   {
    "duration": 67,
    "start_time": "2022-03-27T19:16:47.401Z"
   },
   {
    "duration": 189,
    "start_time": "2022-03-27T19:27:37.718Z"
   },
   {
    "duration": 169,
    "start_time": "2022-03-27T19:28:58.100Z"
   },
   {
    "duration": 184,
    "start_time": "2022-03-27T19:30:13.822Z"
   },
   {
    "duration": 190,
    "start_time": "2022-03-27T19:31:49.799Z"
   },
   {
    "duration": 176,
    "start_time": "2022-03-27T19:32:47.904Z"
   },
   {
    "duration": 178,
    "start_time": "2022-03-27T19:33:39.125Z"
   },
   {
    "duration": 165,
    "start_time": "2022-03-27T19:35:29.270Z"
   },
   {
    "duration": 177,
    "start_time": "2022-03-27T19:36:55.798Z"
   },
   {
    "duration": 178,
    "start_time": "2022-03-27T19:37:33.069Z"
   },
   {
    "duration": 185,
    "start_time": "2022-03-27T19:37:51.144Z"
   },
   {
    "duration": 180,
    "start_time": "2022-03-27T19:43:12.034Z"
   },
   {
    "duration": 170,
    "start_time": "2022-03-27T19:43:48.864Z"
   },
   {
    "duration": 172,
    "start_time": "2022-03-27T19:43:56.884Z"
   },
   {
    "duration": 182,
    "start_time": "2022-03-27T19:45:00.573Z"
   },
   {
    "duration": 67,
    "start_time": "2022-03-27T19:45:16.553Z"
   },
   {
    "duration": 67,
    "start_time": "2022-03-27T19:46:03.744Z"
   },
   {
    "duration": 190,
    "start_time": "2022-03-27T19:52:10.883Z"
   },
   {
    "duration": 60,
    "start_time": "2022-03-27T20:06:08.905Z"
   },
   {
    "duration": 60,
    "start_time": "2022-03-27T20:06:59.375Z"
   },
   {
    "duration": 179,
    "start_time": "2022-03-27T20:17:38.106Z"
   },
   {
    "duration": 64,
    "start_time": "2022-03-27T20:17:48.143Z"
   },
   {
    "duration": 176,
    "start_time": "2022-03-27T20:20:24.718Z"
   },
   {
    "duration": 63,
    "start_time": "2022-03-27T20:20:40.258Z"
   },
   {
    "duration": 6025,
    "start_time": "2022-03-27T20:31:49.766Z"
   },
   {
    "duration": 256,
    "start_time": "2022-03-27T20:31:55.794Z"
   },
   {
    "duration": 80,
    "start_time": "2022-03-27T20:31:56.052Z"
   },
   {
    "duration": 79,
    "start_time": "2022-03-27T20:31:56.134Z"
   },
   {
    "duration": 113,
    "start_time": "2022-03-27T20:31:56.216Z"
   },
   {
    "duration": 95,
    "start_time": "2022-03-27T20:31:56.331Z"
   },
   {
    "duration": 65,
    "start_time": "2022-03-27T20:31:56.428Z"
   },
   {
    "duration": 99,
    "start_time": "2022-03-27T20:31:56.496Z"
   },
   {
    "duration": 69,
    "start_time": "2022-03-27T20:31:56.597Z"
   },
   {
    "duration": 97,
    "start_time": "2022-03-27T20:31:56.669Z"
   },
   {
    "duration": 0,
    "start_time": "2022-03-27T20:31:56.768Z"
   },
   {
    "duration": 0,
    "start_time": "2022-03-27T20:31:56.770Z"
   },
   {
    "duration": 6277,
    "start_time": "2022-03-27T20:32:28.646Z"
   },
   {
    "duration": 239,
    "start_time": "2022-03-27T20:32:34.927Z"
   },
   {
    "duration": 82,
    "start_time": "2022-03-27T20:32:35.168Z"
   },
   {
    "duration": 76,
    "start_time": "2022-03-27T20:32:35.252Z"
   },
   {
    "duration": 110,
    "start_time": "2022-03-27T20:32:35.331Z"
   },
   {
    "duration": 97,
    "start_time": "2022-03-27T20:32:35.445Z"
   },
   {
    "duration": 61,
    "start_time": "2022-03-27T20:32:35.545Z"
   },
   {
    "duration": 93,
    "start_time": "2022-03-27T20:32:35.608Z"
   },
   {
    "duration": 66,
    "start_time": "2022-03-27T20:32:35.704Z"
   },
   {
    "duration": 69,
    "start_time": "2022-03-27T20:32:35.773Z"
   },
   {
    "duration": 66,
    "start_time": "2022-03-27T20:32:35.844Z"
   }
  ],
  "kernelspec": {
   "display_name": "Python 3 (ipykernel)",
   "language": "python",
   "name": "python3"
  },
  "language_info": {
   "codemirror_mode": {
    "name": "ipython",
    "version": 3
   },
   "file_extension": ".py",
   "mimetype": "text/x-python",
   "name": "python",
   "nbconvert_exporter": "python",
   "pygments_lexer": "ipython3",
   "version": "3.9.5"
  },
  "toc": {
   "base_numbering": 1,
   "nav_menu": {},
   "number_sections": true,
   "sideBar": true,
   "skip_h1_title": true,
   "title_cell": "Table of Contents",
   "title_sidebar": "Contents",
   "toc_cell": false,
   "toc_position": {},
   "toc_section_display": true,
   "toc_window_display": false
  }
 },
 "nbformat": 4,
 "nbformat_minor": 2
}
